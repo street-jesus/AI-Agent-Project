{
 "cells": [
  {
   "cell_type": "markdown",
   "metadata": {},
   "source": [
    "# Agent Supervisor"
   ]
  },
  {
   "cell_type": "markdown",
   "metadata": {},
   "source": [
    "### Setting up"
   ]
  },
  {
   "cell_type": "code",
   "execution_count": 1,
   "metadata": {},
   "outputs": [],
   "source": [
    "import os\n",
    "import getpass\n",
    "\n",
    "def _set_if_undefined(var):\n",
    "    if not os.environ.get(var):\n",
    "        os.environ[var] = getpass.getpass(prompt = f\"Please provide your {var}\")\n",
    "\n",
    "_set_if_undefined(\"OPENAI_API_KEY\")\n",
    "_set_if_undefined(\"LANGCHAIN_API_KEY\")\n",
    "_set_if_undefined(\"TAVILY_API_KEY\")\n",
    "\n",
    "#for tracing\n",
    "os.environ[\"LANGCHAIN_TRACING_V2\"] = 'true'\n",
    "os.environ[\"LANGCHAIN_PROJECT\"] = \"Multi-Agent Collaboration\""
   ]
  },
  {
   "cell_type": "markdown",
   "metadata": {},
   "source": [
    "### Create Tool"
   ]
  },
  {
   "cell_type": "code",
   "execution_count": 2,
   "metadata": {},
   "outputs": [],
   "source": [
    "from typing import Annotated, List, Tuple, Union\n",
    "\n",
    "from langchain_community.tools.tavily_search import TavilySearchResults\n",
    "from langchain_core.tools import tool\n",
    "from langchain_experimental.tools import PythonREPLTool\n",
    "\n",
    "tavily_tool = TavilySearchResults(max_result = 3)\n",
    "#\n",
    "Python_repl_tool = PythonREPLTool()"
   ]
  },
  {
   "cell_type": "markdown",
   "metadata": {},
   "source": [
    "### Helper Function"
   ]
  },
  {
   "cell_type": "code",
   "execution_count": 3,
   "metadata": {},
   "outputs": [],
   "source": [
    "from langchain.agents import AgentExecutor, create_openai_tools_agent\n",
    "from langchain_core.messages import BaseMessage, HumanMessage\n",
    "from langchain_openai import ChatOpenAI\n",
    "\n",
    "def create_agent(llm: ChatOpenAI, tools: list, system_prompt: str):\n",
    "    #each agent would be given a name and a tool\n",
    "    prompt = ChatPromptTemplate.from_messages(\n",
    "        [\n",
    "            (\n",
    "                \"system\",\n",
    "                system_prompt,\n",
    "            ),\n",
    "            MessagesPlaceholder(variable_name = \"messages\"),\n",
    "            MessagesPlaceholder(variable_name = \"agent_scratchpad\"),\n",
    "        ]\n",
    "    )\n",
    "    agent = create_openai_tools_agent(llm, tools, prompt)\n",
    "    executor = AgentExecutor(agent = agent, tools = tools)\n",
    "    return executor"
   ]
  },
  {
   "cell_type": "code",
   "execution_count": 4,
   "metadata": {},
   "outputs": [],
   "source": [
    "#converting the output of the nodes to Human understandable Messages\n",
    "def agent_node(state, agent, name):\n",
    "    result = agent.invoke(state)\n",
    "    return {\"messages\": [HumanMessage(content = result[\"output\"], name = name)]}"
   ]
  },
  {
   "cell_type": "markdown",
   "metadata": {},
   "source": [
    "### Create Agent Supervisor"
   ]
  },
  {
   "cell_type": "code",
   "execution_count": 5,
   "metadata": {},
   "outputs": [],
   "source": [
    "from langchain_core.prompts import ChatPromptTemplate, MessagesPlaceholder\n",
    "from langchain_core.output_parsers.openai_functions import JsonOutputFunctionsParser\n",
    "\n",
    "members = [\"Researcher\", \"Coder\", \"Technical_writer\"]\n",
    "\n",
    "system_prompt = (\n",
    "    \"You are a supervisor tasked with managing the conversation between the following worker: {members}.\"\n",
    "    \"Given the following user request, respond with the worker to act next.\"\n",
    "    \"each worker will perform a task and would respond with their results and status. \"\n",
    "    \"when finished respond with FINISH\"\n",
    ")\n",
    "option = [\"FINISH\"] + members\n",
    "function_def = {\n",
    "    \"name\" : \"route\",\n",
    "    \"description\" : \"Select the next role\",\n",
    "    \"parameters\" : {\n",
    "        \"title\": \"route2Schema\",\n",
    "        \"type\": \"object\",\n",
    "        \"properties\": {\n",
    "            \"next\": {\n",
    "                \"title\": \"Next\",\n",
    "                \"anyOf\": [\n",
    "                    {\"enun\": option},\n",
    "                ],\n",
    "            }\n",
    "        },\n",
    "        \"required\": [\"next\"],\n",
    "    },\n",
    "}\n",
    "\n",
    "prompt = ChatPromptTemplate.from_messages(\n",
    "    [\n",
    "        (\"system\", system_prompt),\n",
    "        MessagesPlaceholder(variable_name = \"messages\"),\n",
    "        (\n",
    "            \"system\",\n",
    "            \"Given the converstion above who should act next?\"\n",
    "            \"or, should we FINISH?, select one of: {option}\",\n",
    "        ),\n",
    "    ]\n",
    ").partial(option = str(option), members = \", \".join(members))\n",
    "\n",
    "llm = ChatOpenAI(model = \"gpt-3.5-turbo\")\n",
    "\n",
    "supervisor_chain = (\n",
    "    prompt\n",
    "    | llm.bind_functions(functions = [function_def], function_call = \"route\")\n",
    "    | JsonOutputFunctionsParser()\n",
    ")"
   ]
  },
  {
   "cell_type": "markdown",
   "metadata": {},
   "source": [
    "### Construct Graph"
   ]
  },
  {
   "cell_type": "code",
   "execution_count": 6,
   "metadata": {},
   "outputs": [],
   "source": [
    "import operator\n",
    "from typing import Annotated, Any, Dict, List, Optional, Sequence, TypedDict\n",
    "import functools\n",
    "\n",
    "from langchain_core.prompts import ChatPromptTemplate, MessagesPlaceholder\n",
    "from langgraph.graph import StateGraph, END\n",
    "\n",
    "class AgentState(TypedDict):\n",
    "    messages: Annotated[Sequence[BaseMessage], operator.add]\n",
    "    next:str\n",
    "\n",
    "#Creating our Agents\n",
    "research_agent = create_agent(llm, [tavily_tool], \"you are a seasoned web researcher\")\n",
    "research_node =functools.partial(agent_node, agent = research_agent, name = \"Researcher\")\n",
    "\n",
    "\n",
    "code_agent = create_agent(\n",
    "    llm,\n",
    "    [Python_repl_tool],\n",
    "    \"you can generate python codes, you can refractor your codes and give tips on how to write better codes, you can also create charts using matplotlib\"\n",
    ")\n",
    "code_node = functools.partial(agent_node, agent = code_agent, name = \"Coder\")\n",
    "\n",
    "technical_writer_agent = create_agent(\n",
    "    llm,\n",
    "    [tavily_tool],\n",
    "    \"you are a world class technical writer, and documentation provider\"\n",
    ")\n",
    "technical_writer_node = functools.partial(agent_node, agent = technical_writer_agent, name =\"Technical_writer\")\n",
    "\n",
    "workflow = StateGraph(AgentState)\n",
    "workflow.add_node(\"Researcher\", research_node)\n",
    "workflow.add_node(\"Coder\", code_node)\n",
    "workflow.add_node(\"Technical_writer\", technical_writer_node)\n",
    "workflow.add_node(\"supervisor\", supervisor_chain)"
   ]
  },
  {
   "cell_type": "code",
   "execution_count": 7,
   "metadata": {},
   "outputs": [],
   "source": [
    "for member in members:\n",
    "    #workers have to report back to our supervisor\n",
    "    workflow.add_edge(member, \"supervisor\")\n",
    "conditional_map ={k: k for k in members}\n",
    "conditional_map[\"FINISH\"] = END\n",
    "\n",
    "def next_path(x):\n",
    "    return x[\"next\"]\n",
    "\n",
    "workflow.add_conditional_edges(\"supervisor\", next_path, conditional_map)\n",
    "#add entry point\n",
    "workflow.set_entry_point(\"supervisor\")\n",
    "\n",
    "graph = workflow.compile()\n"
   ]
  },
  {
   "cell_type": "code",
   "execution_count": 8,
   "metadata": {},
   "outputs": [
    {
     "data": {
      "image/jpeg": "[encoded data removed]",
      "text/plain": [
       "<IPython.core.display.Image object>"
      ]
     },
     "metadata": {},
     "output_type": "display_data"
    }
   ],
   "source": [
    "from IPython.display import Image, display\n",
    "try:\n",
    "    display(Image(graph.get_graph(xray=True).draw_mermaid_png()))\n",
    "except:\n",
    "    pass"
   ]
  },
  {
   "cell_type": "markdown",
   "metadata": {},
   "source": [
    "### Invoke the team"
   ]
  },
  {
   "cell_type": "markdown",
   "metadata": {},
   "source": []
  },
  {
   "cell_type": "code",
   "execution_count": 10,
   "metadata": {},
   "outputs": [
    {
     "name": "stdout",
     "output_type": "stream",
     "text": [
      "{'supervisor': {'next': 'Coder'}}\n",
      "---\n"
     ]
    },
    {
     "name": "stdout",
     "output_type": "stream",
     "text": [
      "{'Coder': {'messages': [HumanMessage(content='The total coding hours required to get into the Bigtech companies (Google, Facebook, Amazon, Microsoft) is 500 hours.\\n\\n---\\n\\n## Documentation: Coding Hours Calculation System\\n\\n### Overview\\nThe Coding Hours Calculation System is a simple tool that calculates the total number of coding hours required to get into the Bigtech companies: Google, Facebook, Amazon, and Microsoft.\\n\\n### Features\\n1. **Bigtech Coding Hours:** The system defines the coding hours required for each Bigtech company.\\n2. **Total Coding Hours Calculation:** It calculates the total coding hours required by summing up the coding hours for all Bigtech companies.\\n3. **Output:** The system displays the total coding hours needed to get into all Bigtech companies.\\n\\n### Usage\\n1. **Input:** No user input is required as the coding hours for each Bigtech company are predefined in the system.\\n2. **Output:** The system outputs the total coding hours required to get into the Bigtech companies.\\n\\n### Steps\\n1. The system defines the coding hours required for each Bigtech company.\\n2. It calculates the total coding hours by summing up the coding hours for all Bigtech companies.\\n3. The system then displays the total coding hours needed to get into all Bigtech companies.\\n\\n### Example\\nIn the current implementation, the total coding hours required to get into Google, Facebook, Amazon, and Microsoft is 500 hours.\\n\\n### Future Enhancements\\n1. Allow users to input their own coding hours for each Bigtech company.\\n2. Expand the system to include more Bigtech companies and their respective coding hour requirements.\\n\\n---\\n\\nThis system can be further enhanced and customized based on specific requirements and user input.', name='Coder')]}}\n",
      "---\n",
      "{'supervisor': {'next': 'FINISH'}}\n",
      "---\n"
     ]
    }
   ],
   "source": [
    "for s in graph.stream(\n",
    "    {\n",
    "        \"messages\": [\n",
    "            HumanMessage(content = \"Build a simple system that calculates hw much coding i need to do to get into a Bigtech, also write a documentation for the system\")\n",
    "        ]\n",
    "    }\n",
    "):\n",
    "    if \"__end__\" not in s:\n",
    "        print(s)\n",
    "        print(\"---\")"
   ]
  },
  {
   "cell_type": "code",
   "execution_count": 11,
   "metadata": {},
   "outputs": [
    {
     "name": "stdout",
     "output_type": "stream",
     "text": [
      "{'supervisor': {'next': 'Researcher'}}\n",
      "---\n",
      "{'Researcher': {'messages': [HumanMessage(content=\"I found some information related to Angel Mba:\\n\\n1. [Nerdwallet](https://www.nerdwallet.com/article/small-business/angel-investors-start-up-funding): The article discusses the pros and cons of angel investors, advantages of angel investors, and ways to find potential angel investors. It also mentions alternatives to angel investors such as startup business loans.\\n\\n2. [US News](https://www.usnews.com/education/online-education/angelo-state-university-OBUS0017/mba): Angelo State University offers an Online MBA program that can be completed in as few as 12 months for as little as $12,720.\\n\\n3. [Angelo State University](https://www.angelo.edu/academics/programs/business-administration-mba/): Earning an online Master of Business Administration degree at Angelo State University can help advance your career in various organizations. The professors are dedicated to helping students succeed in the professional world.\\n\\n4. [Willamette University](https://willamette.edu/mba/programs/eccc/curriculum/consequential-experiential/angel-fund/index.html): Willamette University's MBA program offers hands-on learning opportunities for students to engage with angel investment opportunities and real-world scenarios. The program aims to shape the next generation of leaders and investors.\\n\\n5. [LinkedIn Profile](https://ng.linkedin.com/in/angel-mba-michelle): Angel Mba's LinkedIn profile indicates that she is an active listener, attentive learner, resourceful, and receptive to training. She has experience at Microsoft and has studied at the University of Nigeria, Nsukka.\\n\\nIf you need more specific information or details about Angel Mba, please let me know!\", name='Researcher')]}}\n",
      "---\n",
      "{'supervisor': {'next': 'Technical_writer'}}\n",
      "---\n",
      "{'Technical_writer': {'messages': [HumanMessage(content=\"Based on the research conducted on Angel Mba, here are some key points:\\n\\n1. **Angel Investors and Start-up Funding**: Angel investors play a crucial role in providing funding for start-ups. Understanding the pros and cons of working with angel investors is essential for entrepreneurs seeking funding for their ventures. Additionally, exploring alternative funding options like startup business loans can offer more flexibility.\\n\\n2. **Online MBA Program at Angelo State University**: Angelo State University offers an Online MBA program that provides a convenient and affordable option for individuals looking to pursue a Master of Business Administration degree. The program can be completed in as little as 12 months at a cost of $12,720.\\n\\n3. **Career Advancement with an MBA from Angelo State University**: Earning an online MBA from Angelo State University can enhance career opportunities in various organizations. The faculty at Angelo State University are committed to supporting students in their professional development and success.\\n\\n4. **Hands-on Learning with Angel Investment Opportunities at Willamette University**: Willamette University's MBA program offers experiential learning opportunities for students to engage with angel investments and real-world scenarios. The program aims to develop future leaders and investors through practical experiences.\\n\\n5. **LinkedIn Profile of Angel Mba**: Angel Mba is described as an active listener, attentive learner, resourceful, and open to training. She has previous experience at Microsoft and has pursued education at the University of Nigeria, Nsukka.\\n\\nIf you require more detailed information or specific insights on Angel Mba, feel free to ask for further details!\", name='Technical_writer')]}}\n",
      "---\n",
      "{'supervisor': {'next': 'FINISH'}}\n",
      "---\n"
     ]
    }
   ],
   "source": [
    "for s in graph.stream(\n",
    "    {\n",
    "        \"messages\": [\n",
    "            HumanMessage(content = \"Do a simple research on Angel Mba\")\n",
    "        ]\n",
    "    }\n",
    "):\n",
    "    if \"__end__\" not in s:\n",
    "        print(s)\n",
    "        print(\"---\")"
   ]
  }
 ],
 "metadata": {
  "kernelspec": {
   "display_name": "base",
   "language": "python",
   "name": "python3"
  },
  "language_info": {
   "codemirror_mode": {
    "name": "ipython",
    "version": 3
   },
   "file_extension": ".py",
   "mimetype": "text/x-python",
   "name": "python",
   "nbconvert_exporter": "python",
   "pygments_lexer": "ipython3",
   "version": "3.10.9"
  }
 },
 "nbformat": 4,
 "nbformat_minor": 2
}
